{
  "nbformat": 4,
  "nbformat_minor": 0,
  "metadata": {
    "colab": {
      "provenance": []
    },
    "kernelspec": {
      "name": "python3",
      "display_name": "Python 3"
    },
    "language_info": {
      "name": "python"
    }
  },
  "cells": [
    {
      "cell_type": "code",
      "execution_count": 1,
      "metadata": {
        "id": "wLpikU_w1JSw"
      },
      "outputs": [],
      "source": [
        "import pandas as pd \n",
        "import numpy as np\n",
        "import seaborn as sns \n",
        "import matplotlib.pyplot as plt "
      ]
    },
    {
      "cell_type": "code",
      "source": [
        "df=pd.read_csv('Salaries.csv')\n",
        "df.sample(10)"
      ],
      "metadata": {
        "colab": {
          "base_uri": "https://localhost:8080/",
          "height": 362
        },
        "id": "zsV7B5Fh1Oo3",
        "outputId": "2b11d209-1acc-4a5f-901f-a29866304138"
      },
      "execution_count": 69,
      "outputs": [
        {
          "output_type": "execute_result",
          "data": {
            "text/plain": [
              "            Id             EmployeeName                    JobTitle   BasePay  \\\n",
              "84409    84410       Ermie S Barrientos                   Asst Engr  98339.56   \n",
              "60727    60728           Liane Corrales                 Inspector 3  37141.90   \n",
              "102594  102595          Tyrone D Hopper         Food Service Worker  16717.94   \n",
              "99279    99280  Robert Allan I Maligaya              Police Officer  50913.30   \n",
              "123500  123501           Paul N Johnson            Transit Operator  63825.97   \n",
              "67403    67404          Jessica Woodard  Publ Svc Aide-Asst to Prof  13368.35   \n",
              "54826    54827            John Thurston              Window Cleaner  67945.77   \n",
              "23211    23212             LAURA GRGICH            REGISTERED NURSE  48118.52   \n",
              "67748    67749           Jose Gutierrez                Library Page  14116.54   \n",
              "26573    26574            LAMONT SUSLOW          POLICE OFFICER III  40993.81   \n",
              "\n",
              "        OvertimePay  OtherPay  Benefits  TotalPay  TotalPayBenefits  Year  \\\n",
              "84409          0.00      0.00  33247.66  98339.56         131587.22  2013   \n",
              "60727      16186.35  15799.25   9597.99  69127.50          78725.49  2012   \n",
              "102594      5031.22    745.41   9662.82  22494.57          32157.39  2013   \n",
              "99279          0.00      0.00  18323.88  50913.30          69237.18  2013   \n",
              "123500     18058.36   7727.80  35277.35  89612.13         124889.48  2014   \n",
              "67403          0.00      0.00   3737.12  13368.35          17105.47  2012   \n",
              "54826          0.00   1375.32  31364.89  69321.09         100685.98  2012   \n",
              "23211       2439.75   3499.87       NaN  54058.14          54058.14  2011   \n",
              "67748          0.00    231.10   1114.24  14347.64          15461.88  2012   \n",
              "26573          0.00      0.00       NaN  40993.81          40993.81  2011   \n",
              "\n",
              "        Notes         Agency  Status  \n",
              "84409     NaN  San Francisco     NaN  \n",
              "60727     NaN  San Francisco     NaN  \n",
              "102594    NaN  San Francisco     NaN  \n",
              "99279     NaN  San Francisco     NaN  \n",
              "123500    NaN  San Francisco     NaN  \n",
              "67403     NaN  San Francisco     NaN  \n",
              "54826     NaN  San Francisco     NaN  \n",
              "23211     NaN  San Francisco     NaN  \n",
              "67748     NaN  San Francisco     NaN  \n",
              "26573     NaN  San Francisco     NaN  "
            ],
            "text/html": [
              "\n",
              "  <div id=\"df-03970496-203a-4468-91a7-fbee7d992684\">\n",
              "    <div class=\"colab-df-container\">\n",
              "      <div>\n",
              "<style scoped>\n",
              "    .dataframe tbody tr th:only-of-type {\n",
              "        vertical-align: middle;\n",
              "    }\n",
              "\n",
              "    .dataframe tbody tr th {\n",
              "        vertical-align: top;\n",
              "    }\n",
              "\n",
              "    .dataframe thead th {\n",
              "        text-align: right;\n",
              "    }\n",
              "</style>\n",
              "<table border=\"1\" class=\"dataframe\">\n",
              "  <thead>\n",
              "    <tr style=\"text-align: right;\">\n",
              "      <th></th>\n",
              "      <th>Id</th>\n",
              "      <th>EmployeeName</th>\n",
              "      <th>JobTitle</th>\n",
              "      <th>BasePay</th>\n",
              "      <th>OvertimePay</th>\n",
              "      <th>OtherPay</th>\n",
              "      <th>Benefits</th>\n",
              "      <th>TotalPay</th>\n",
              "      <th>TotalPayBenefits</th>\n",
              "      <th>Year</th>\n",
              "      <th>Notes</th>\n",
              "      <th>Agency</th>\n",
              "      <th>Status</th>\n",
              "    </tr>\n",
              "  </thead>\n",
              "  <tbody>\n",
              "    <tr>\n",
              "      <th>84409</th>\n",
              "      <td>84410</td>\n",
              "      <td>Ermie S Barrientos</td>\n",
              "      <td>Asst Engr</td>\n",
              "      <td>98339.56</td>\n",
              "      <td>0.00</td>\n",
              "      <td>0.00</td>\n",
              "      <td>33247.66</td>\n",
              "      <td>98339.56</td>\n",
              "      <td>131587.22</td>\n",
              "      <td>2013</td>\n",
              "      <td>NaN</td>\n",
              "      <td>San Francisco</td>\n",
              "      <td>NaN</td>\n",
              "    </tr>\n",
              "    <tr>\n",
              "      <th>60727</th>\n",
              "      <td>60728</td>\n",
              "      <td>Liane Corrales</td>\n",
              "      <td>Inspector 3</td>\n",
              "      <td>37141.90</td>\n",
              "      <td>16186.35</td>\n",
              "      <td>15799.25</td>\n",
              "      <td>9597.99</td>\n",
              "      <td>69127.50</td>\n",
              "      <td>78725.49</td>\n",
              "      <td>2012</td>\n",
              "      <td>NaN</td>\n",
              "      <td>San Francisco</td>\n",
              "      <td>NaN</td>\n",
              "    </tr>\n",
              "    <tr>\n",
              "      <th>102594</th>\n",
              "      <td>102595</td>\n",
              "      <td>Tyrone D Hopper</td>\n",
              "      <td>Food Service Worker</td>\n",
              "      <td>16717.94</td>\n",
              "      <td>5031.22</td>\n",
              "      <td>745.41</td>\n",
              "      <td>9662.82</td>\n",
              "      <td>22494.57</td>\n",
              "      <td>32157.39</td>\n",
              "      <td>2013</td>\n",
              "      <td>NaN</td>\n",
              "      <td>San Francisco</td>\n",
              "      <td>NaN</td>\n",
              "    </tr>\n",
              "    <tr>\n",
              "      <th>99279</th>\n",
              "      <td>99280</td>\n",
              "      <td>Robert Allan I Maligaya</td>\n",
              "      <td>Police Officer</td>\n",
              "      <td>50913.30</td>\n",
              "      <td>0.00</td>\n",
              "      <td>0.00</td>\n",
              "      <td>18323.88</td>\n",
              "      <td>50913.30</td>\n",
              "      <td>69237.18</td>\n",
              "      <td>2013</td>\n",
              "      <td>NaN</td>\n",
              "      <td>San Francisco</td>\n",
              "      <td>NaN</td>\n",
              "    </tr>\n",
              "    <tr>\n",
              "      <th>123500</th>\n",
              "      <td>123501</td>\n",
              "      <td>Paul N Johnson</td>\n",
              "      <td>Transit Operator</td>\n",
              "      <td>63825.97</td>\n",
              "      <td>18058.36</td>\n",
              "      <td>7727.80</td>\n",
              "      <td>35277.35</td>\n",
              "      <td>89612.13</td>\n",
              "      <td>124889.48</td>\n",
              "      <td>2014</td>\n",
              "      <td>NaN</td>\n",
              "      <td>San Francisco</td>\n",
              "      <td>NaN</td>\n",
              "    </tr>\n",
              "    <tr>\n",
              "      <th>67403</th>\n",
              "      <td>67404</td>\n",
              "      <td>Jessica Woodard</td>\n",
              "      <td>Publ Svc Aide-Asst to Prof</td>\n",
              "      <td>13368.35</td>\n",
              "      <td>0.00</td>\n",
              "      <td>0.00</td>\n",
              "      <td>3737.12</td>\n",
              "      <td>13368.35</td>\n",
              "      <td>17105.47</td>\n",
              "      <td>2012</td>\n",
              "      <td>NaN</td>\n",
              "      <td>San Francisco</td>\n",
              "      <td>NaN</td>\n",
              "    </tr>\n",
              "    <tr>\n",
              "      <th>54826</th>\n",
              "      <td>54827</td>\n",
              "      <td>John Thurston</td>\n",
              "      <td>Window Cleaner</td>\n",
              "      <td>67945.77</td>\n",
              "      <td>0.00</td>\n",
              "      <td>1375.32</td>\n",
              "      <td>31364.89</td>\n",
              "      <td>69321.09</td>\n",
              "      <td>100685.98</td>\n",
              "      <td>2012</td>\n",
              "      <td>NaN</td>\n",
              "      <td>San Francisco</td>\n",
              "      <td>NaN</td>\n",
              "    </tr>\n",
              "    <tr>\n",
              "      <th>23211</th>\n",
              "      <td>23212</td>\n",
              "      <td>LAURA GRGICH</td>\n",
              "      <td>REGISTERED NURSE</td>\n",
              "      <td>48118.52</td>\n",
              "      <td>2439.75</td>\n",
              "      <td>3499.87</td>\n",
              "      <td>NaN</td>\n",
              "      <td>54058.14</td>\n",
              "      <td>54058.14</td>\n",
              "      <td>2011</td>\n",
              "      <td>NaN</td>\n",
              "      <td>San Francisco</td>\n",
              "      <td>NaN</td>\n",
              "    </tr>\n",
              "    <tr>\n",
              "      <th>67748</th>\n",
              "      <td>67749</td>\n",
              "      <td>Jose Gutierrez</td>\n",
              "      <td>Library Page</td>\n",
              "      <td>14116.54</td>\n",
              "      <td>0.00</td>\n",
              "      <td>231.10</td>\n",
              "      <td>1114.24</td>\n",
              "      <td>14347.64</td>\n",
              "      <td>15461.88</td>\n",
              "      <td>2012</td>\n",
              "      <td>NaN</td>\n",
              "      <td>San Francisco</td>\n",
              "      <td>NaN</td>\n",
              "    </tr>\n",
              "    <tr>\n",
              "      <th>26573</th>\n",
              "      <td>26574</td>\n",
              "      <td>LAMONT SUSLOW</td>\n",
              "      <td>POLICE OFFICER III</td>\n",
              "      <td>40993.81</td>\n",
              "      <td>0.00</td>\n",
              "      <td>0.00</td>\n",
              "      <td>NaN</td>\n",
              "      <td>40993.81</td>\n",
              "      <td>40993.81</td>\n",
              "      <td>2011</td>\n",
              "      <td>NaN</td>\n",
              "      <td>San Francisco</td>\n",
              "      <td>NaN</td>\n",
              "    </tr>\n",
              "  </tbody>\n",
              "</table>\n",
              "</div>\n",
              "      <button class=\"colab-df-convert\" onclick=\"convertToInteractive('df-03970496-203a-4468-91a7-fbee7d992684')\"\n",
              "              title=\"Convert this dataframe to an interactive table.\"\n",
              "              style=\"display:none;\">\n",
              "        \n",
              "  <svg xmlns=\"http://www.w3.org/2000/svg\" height=\"24px\"viewBox=\"0 0 24 24\"\n",
              "       width=\"24px\">\n",
              "    <path d=\"M0 0h24v24H0V0z\" fill=\"none\"/>\n",
              "    <path d=\"M18.56 5.44l.94 2.06.94-2.06 2.06-.94-2.06-.94-.94-2.06-.94 2.06-2.06.94zm-11 1L8.5 8.5l.94-2.06 2.06-.94-2.06-.94L8.5 2.5l-.94 2.06-2.06.94zm10 10l.94 2.06.94-2.06 2.06-.94-2.06-.94-.94-2.06-.94 2.06-2.06.94z\"/><path d=\"M17.41 7.96l-1.37-1.37c-.4-.4-.92-.59-1.43-.59-.52 0-1.04.2-1.43.59L10.3 9.45l-7.72 7.72c-.78.78-.78 2.05 0 2.83L4 21.41c.39.39.9.59 1.41.59.51 0 1.02-.2 1.41-.59l7.78-7.78 2.81-2.81c.8-.78.8-2.07 0-2.86zM5.41 20L4 18.59l7.72-7.72 1.47 1.35L5.41 20z\"/>\n",
              "  </svg>\n",
              "      </button>\n",
              "      \n",
              "  <style>\n",
              "    .colab-df-container {\n",
              "      display:flex;\n",
              "      flex-wrap:wrap;\n",
              "      gap: 12px;\n",
              "    }\n",
              "\n",
              "    .colab-df-convert {\n",
              "      background-color: #E8F0FE;\n",
              "      border: none;\n",
              "      border-radius: 50%;\n",
              "      cursor: pointer;\n",
              "      display: none;\n",
              "      fill: #1967D2;\n",
              "      height: 32px;\n",
              "      padding: 0 0 0 0;\n",
              "      width: 32px;\n",
              "    }\n",
              "\n",
              "    .colab-df-convert:hover {\n",
              "      background-color: #E2EBFA;\n",
              "      box-shadow: 0px 1px 2px rgba(60, 64, 67, 0.3), 0px 1px 3px 1px rgba(60, 64, 67, 0.15);\n",
              "      fill: #174EA6;\n",
              "    }\n",
              "\n",
              "    [theme=dark] .colab-df-convert {\n",
              "      background-color: #3B4455;\n",
              "      fill: #D2E3FC;\n",
              "    }\n",
              "\n",
              "    [theme=dark] .colab-df-convert:hover {\n",
              "      background-color: #434B5C;\n",
              "      box-shadow: 0px 1px 3px 1px rgba(0, 0, 0, 0.15);\n",
              "      filter: drop-shadow(0px 1px 2px rgba(0, 0, 0, 0.3));\n",
              "      fill: #FFFFFF;\n",
              "    }\n",
              "  </style>\n",
              "\n",
              "      <script>\n",
              "        const buttonEl =\n",
              "          document.querySelector('#df-03970496-203a-4468-91a7-fbee7d992684 button.colab-df-convert');\n",
              "        buttonEl.style.display =\n",
              "          google.colab.kernel.accessAllowed ? 'block' : 'none';\n",
              "\n",
              "        async function convertToInteractive(key) {\n",
              "          const element = document.querySelector('#df-03970496-203a-4468-91a7-fbee7d992684');\n",
              "          const dataTable =\n",
              "            await google.colab.kernel.invokeFunction('convertToInteractive',\n",
              "                                                     [key], {});\n",
              "          if (!dataTable) return;\n",
              "\n",
              "          const docLinkHtml = 'Like what you see? Visit the ' +\n",
              "            '<a target=\"_blank\" href=https://colab.research.google.com/notebooks/data_table.ipynb>data table notebook</a>'\n",
              "            + ' to learn more about interactive tables.';\n",
              "          element.innerHTML = '';\n",
              "          dataTable['output_type'] = 'display_data';\n",
              "          await google.colab.output.renderOutput(dataTable, element);\n",
              "          const docLink = document.createElement('div');\n",
              "          docLink.innerHTML = docLinkHtml;\n",
              "          element.appendChild(docLink);\n",
              "        }\n",
              "      </script>\n",
              "    </div>\n",
              "  </div>\n",
              "  "
            ]
          },
          "metadata": {},
          "execution_count": 69
        }
      ]
    },
    {
      "cell_type": "code",
      "source": [
        "df.info()"
      ],
      "metadata": {
        "colab": {
          "base_uri": "https://localhost:8080/"
        },
        "id": "05WZWdTs1kNY",
        "outputId": "9cc109a8-32e5-4d4a-c615-b75d3e4ac806"
      },
      "execution_count": 12,
      "outputs": [
        {
          "output_type": "stream",
          "name": "stdout",
          "text": [
            "<class 'pandas.core.frame.DataFrame'>\n",
            "RangeIndex: 148654 entries, 0 to 148653\n",
            "Data columns (total 13 columns):\n",
            " #   Column            Non-Null Count   Dtype  \n",
            "---  ------            --------------   -----  \n",
            " 0   Id                148654 non-null  int64  \n",
            " 1   EmployeeName      148654 non-null  object \n",
            " 2   JobTitle          148654 non-null  object \n",
            " 3   BasePay           148045 non-null  float64\n",
            " 4   OvertimePay       148650 non-null  float64\n",
            " 5   OtherPay          148650 non-null  float64\n",
            " 6   Benefits          112491 non-null  float64\n",
            " 7   TotalPay          148654 non-null  float64\n",
            " 8   TotalPayBenefits  148654 non-null  float64\n",
            " 9   Year              148654 non-null  int64  \n",
            " 10  Notes             0 non-null       float64\n",
            " 11  Agency            148654 non-null  object \n",
            " 12  Status            0 non-null       float64\n",
            "dtypes: float64(8), int64(2), object(3)\n",
            "memory usage: 14.7+ MB\n"
          ]
        }
      ]
    },
    {
      "cell_type": "code",
      "source": [
        "df['BasePay'].mean()"
      ],
      "metadata": {
        "colab": {
          "base_uri": "https://localhost:8080/"
        },
        "id": "WRhjgQkU1mBN",
        "outputId": "bea93ac4-bdb5-451d-9ed1-6fb43fcc6f9e"
      },
      "execution_count": 13,
      "outputs": [
        {
          "output_type": "execute_result",
          "data": {
            "text/plain": [
              "66325.4488404877"
            ]
          },
          "metadata": {},
          "execution_count": 13
        }
      ]
    },
    {
      "cell_type": "code",
      "source": [
        "df['OvertimePay'].max()"
      ],
      "metadata": {
        "colab": {
          "base_uri": "https://localhost:8080/"
        },
        "id": "-TaexIT51xdy",
        "outputId": "5b6c308e-4275-47ef-a3df-6df0d230b83d"
      },
      "execution_count": 10,
      "outputs": [
        {
          "output_type": "execute_result",
          "data": {
            "text/plain": [
              "245131.88"
            ]
          },
          "metadata": {},
          "execution_count": 10
        }
      ]
    },
    {
      "cell_type": "code",
      "source": [
        "df[df['EmployeeName']=='JOSEPH DRISCOLL']['JobTitle']"
      ],
      "metadata": {
        "colab": {
          "base_uri": "https://localhost:8080/"
        },
        "id": "-loSLTol1585",
        "outputId": "862b45ef-f1b9-4a47-984e-2416f7ecae13"
      },
      "execution_count": 14,
      "outputs": [
        {
          "output_type": "execute_result",
          "data": {
            "text/plain": [
              "24    CAPTAIN, FIRE SUPPRESSION\n",
              "Name: JobTitle, dtype: object"
            ]
          },
          "metadata": {},
          "execution_count": 14
        }
      ]
    },
    {
      "cell_type": "code",
      "source": [
        "df[df['EmployeeName']=='JOSEPH DRISCOLL']['TotalPayBenefits']"
      ],
      "metadata": {
        "colab": {
          "base_uri": "https://localhost:8080/"
        },
        "id": "daF2Wk792edB",
        "outputId": "29963146-5cc9-4e48-8f46-a339a0e4abf5"
      },
      "execution_count": 17,
      "outputs": [
        {
          "output_type": "execute_result",
          "data": {
            "text/plain": [
              "24    270324.91\n",
              "Name: TotalPayBenefits, dtype: float64"
            ]
          },
          "metadata": {},
          "execution_count": 17
        }
      ]
    },
    {
      "cell_type": "code",
      "source": [
        "hperson=df['TotalPayBenefits'].idxmax()\n",
        "df.iloc[hperson]['EmployeeName']"
      ],
      "metadata": {
        "colab": {
          "base_uri": "https://localhost:8080/",
          "height": 35
        },
        "id": "Y7Hu_NQz23R0",
        "outputId": "7a743fbd-c8d2-4b48-8ab3-5f2ef5f4ea6e"
      },
      "execution_count": 28,
      "outputs": [
        {
          "output_type": "execute_result",
          "data": {
            "text/plain": [
              "'NATHANIEL FORD'"
            ],
            "application/vnd.google.colaboratory.intrinsic+json": {
              "type": "string"
            }
          },
          "metadata": {},
          "execution_count": 28
        }
      ]
    },
    {
      "cell_type": "code",
      "source": [
        "lperson=df['TotalPayBenefits'].idxmin()\n",
        "df.loc[lperson]['EmployeeName']"
      ],
      "metadata": {
        "colab": {
          "base_uri": "https://localhost:8080/",
          "height": 35
        },
        "id": "1zXLgHKT8tJW",
        "outputId": "1197abcc-c308-479d-b409-1dcebb78a82d"
      },
      "execution_count": 29,
      "outputs": [
        {
          "output_type": "execute_result",
          "data": {
            "text/plain": [
              "'Joe Lopez'"
            ],
            "application/vnd.google.colaboratory.intrinsic+json": {
              "type": "string"
            }
          },
          "metadata": {},
          "execution_count": 29
        }
      ]
    },
    {
      "cell_type": "code",
      "source": [
        "base_year=df[['Year','BasePay']]\n",
        "base_year.groupby('Year')['BasePay'].mean()"
      ],
      "metadata": {
        "colab": {
          "base_uri": "https://localhost:8080/"
        },
        "id": "KODa1SWqAKZT",
        "outputId": "289a0ce1-1235-4e4f-ab47-773b2a010693"
      },
      "execution_count": 35,
      "outputs": [
        {
          "output_type": "execute_result",
          "data": {
            "text/plain": [
              "Year\n",
              "2011    63595.956517\n",
              "2012    65436.406857\n",
              "2013    69630.030216\n",
              "2014    66564.421924\n",
              "Name: BasePay, dtype: float64"
            ]
          },
          "metadata": {},
          "execution_count": 35
        }
      ]
    },
    {
      "cell_type": "code",
      "source": [
        "df['JobTitle'].nunique()"
      ],
      "metadata": {
        "colab": {
          "base_uri": "https://localhost:8080/"
        },
        "id": "wtl6iG5RA9W4",
        "outputId": "96c50eea-ad8f-44ec-cffd-6bf2e5c2aee8"
      },
      "execution_count": 38,
      "outputs": [
        {
          "output_type": "execute_result",
          "data": {
            "text/plain": [
              "2159"
            ]
          },
          "metadata": {},
          "execution_count": 38
        }
      ]
    },
    {
      "cell_type": "code",
      "source": [
        "df['JobTitle'].value_counts().head()\n",
        "# head will present 5 \n",
        "# tottal jop title =148654"
      ],
      "metadata": {
        "colab": {
          "base_uri": "https://localhost:8080/"
        },
        "id": "_Z6ZjVpjB1HK",
        "outputId": "546a9bdd-dea2-4ec8-e27e-7c5d36123892"
      },
      "execution_count": 53,
      "outputs": [
        {
          "output_type": "execute_result",
          "data": {
            "text/plain": [
              "Transit Operator                7036\n",
              "Special Nurse                   4389\n",
              "Registered Nurse                3736\n",
              "Public Svc Aide-Public Works    2518\n",
              "Police Officer 3                2421\n",
              "Name: JobTitle, dtype: int64"
            ]
          },
          "metadata": {},
          "execution_count": 53
        }
      ]
    },
    {
      "cell_type": "code",
      "source": [
        "(df[df['Year']==2013]['JobTitle'].value_counts()==1).sum()"
      ],
      "metadata": {
        "colab": {
          "base_uri": "https://localhost:8080/"
        },
        "id": "D2bwTgqbCOgS",
        "outputId": "d2a107e2-1f26-484d-ac03-a4f09fc5d382"
      },
      "execution_count": 47,
      "outputs": [
        {
          "output_type": "execute_result",
          "data": {
            "text/plain": [
              "202"
            ]
          },
          "metadata": {},
          "execution_count": 47
        }
      ]
    },
    {
      "cell_type": "code",
      "source": [
        "(df[df['Year']==2014]['JobTitle'].value_counts()).sum()"
      ],
      "metadata": {
        "colab": {
          "base_uri": "https://localhost:8080/"
        },
        "id": "QvLRuEn9Do0O",
        "outputId": "e8122276-87dc-4c21-fb79-b9d538b038e4"
      },
      "execution_count": 48,
      "outputs": [
        {
          "output_type": "execute_result",
          "data": {
            "text/plain": [
              "38123"
            ]
          },
          "metadata": {},
          "execution_count": 48
        }
      ]
    },
    {
      "cell_type": "code",
      "source": [
        "(df.groupby('EmployeeName')['TotalPayBenefits'].value_counts()).sum()"
      ],
      "metadata": {
        "colab": {
          "base_uri": "https://localhost:8080/"
        },
        "id": "QTSfa7X6DyEY",
        "outputId": "4e414a86-122e-476e-dbd3-73977152b2a9"
      },
      "execution_count": 50,
      "outputs": [
        {
          "output_type": "execute_result",
          "data": {
            "text/plain": [
              "148654"
            ]
          },
          "metadata": {},
          "execution_count": 50
        }
      ]
    },
    {
      "cell_type": "code",
      "source": [
        "df['TotalPay'].value_counts().sum()"
      ],
      "metadata": {
        "colab": {
          "base_uri": "https://localhost:8080/"
        },
        "id": "FpknGaTFEG62",
        "outputId": "234e8560-0fa4-4110-c4dc-d8fe205b8b52"
      },
      "execution_count": 51,
      "outputs": [
        {
          "output_type": "execute_result",
          "data": {
            "text/plain": [
              "148654"
            ]
          },
          "metadata": {},
          "execution_count": 51
        }
      ]
    },
    {
      "cell_type": "code",
      "source": [
        "df['JobTitle'].apply(lambda str:('chief' in str.lower())).sum()"
      ],
      "metadata": {
        "colab": {
          "base_uri": "https://localhost:8080/"
        },
        "id": "gy7-G4tuEUtC",
        "outputId": "799589f5-54d3-4dac-8cb2-fe34dd3278a2"
      },
      "execution_count": 55,
      "outputs": [
        {
          "output_type": "execute_result",
          "data": {
            "text/plain": [
              "627"
            ]
          },
          "metadata": {},
          "execution_count": 55
        }
      ]
    },
    {
      "cell_type": "code",
      "source": [],
      "metadata": {
        "id": "9S1H4-RUEhJj"
      },
      "execution_count": 69,
      "outputs": []
    },
    {
      "cell_type": "code",
      "source": [
        "df['JobTitlelength']=df['JobTitle'].apply(len)\n",
        "#df['JobTitlelength']"
      ],
      "metadata": {
        "id": "NcQWKLXLFwFl"
      },
      "execution_count": 71,
      "outputs": []
    },
    {
      "cell_type": "code",
      "source": [
        "correlation=df['JobTitlelength'].corr(df['TotalPayBenefits'])\n",
        "correlation"
      ],
      "metadata": {
        "colab": {
          "base_uri": "https://localhost:8080/"
        },
        "id": "fvu0yvX5Gw1b",
        "outputId": "3fbb0387-e636-4d1e-fed4-f290a9356039"
      },
      "execution_count": 72,
      "outputs": [
        {
          "output_type": "execute_result",
          "data": {
            "text/plain": [
              "-0.036878445932606675"
            ]
          },
          "metadata": {},
          "execution_count": 72
        }
      ]
    },
    {
      "cell_type": "code",
      "source": [],
      "metadata": {
        "id": "_b69OkH6H3ZH"
      },
      "execution_count": null,
      "outputs": []
    }
  ]
}